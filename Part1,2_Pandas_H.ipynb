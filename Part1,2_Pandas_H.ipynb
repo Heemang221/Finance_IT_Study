{
 "cells": [
  {
   "cell_type": "code",
   "execution_count": 1,
   "metadata": {},
   "outputs": [],
   "source": [
    "import pandas as pd"
   ]
  },
  {
   "cell_type": "code",
   "execution_count": null,
   "metadata": {},
   "outputs": [],
   "source": [
    "df = pd.read_csv(\"파일경로(이름)\", header=1) # 1행을 열지정\n",
    "df = pd.read_csv(\"파일경로(이름)\", header=None) # 행을 열 지정하지 않음\n",
    "df = pd.read_csv(\"파일경로(이름)\", index_col=False) # 인덱스 지정하지 않음\n",
    "df = pd.read_csv(\"파일경로(이름)\", index_col='c0') # 인덱스 지정하지 않음"
   ]
  },
  {
   "cell_type": "code",
   "execution_count": null,
   "metadata": {},
   "outputs": [],
   "source": [
    "df = pd.read_excel(\".xlsx\")"
   ]
  },
  {
   "cell_type": "code",
   "execution_count": null,
   "metadata": {},
   "outputs": [],
   "source": [
    "df = pd.read_json('.json')"
   ]
  },
  {
   "cell_type": "code",
   "execution_count": null,
   "metadata": {},
   "outputs": [],
   "source": [
    "url = './sample.html'\n",
    "\n",
    "tables = pd.read_html(url)\n",
    "\n",
    "for i in range(len(tables)):\n",
    "    print(\"tables[%s]\" %i)\n",
    "    print(tables[i])\n",
    "    print(\"\\n\")\n",
    "    \n",
    "df = tables[1]\n",
    "\n",
    "df.set_index(['name'], inplace=True)\n",
    "print(df)"
   ]
  },
  {
   "cell_type": "code",
   "execution_count": null,
   "metadata": {},
   "outputs": [],
   "source": [
    "from bs4 import BeautifulSoup\n",
    "import requests\n",
    "import re\n",
    "\n",
    "url = \"~~\"\n",
    "resp = requests.get(url)\n",
    "soup = BeautifulSoup(resp.text, 'lxml')\n",
    "rows = soup.select('div > ul > li')\n",
    "\n",
    "etfs = {}\n",
    "for row in rows:\n",
    "    \n",
    "    try:\n",
    "        etf_name = re.findall('^(.*) \\(NYSE', row.text)\n",
    "        etf_market = re.findall('\\((.*)\\|', row.text)\n",
    "        etf_ticker = re.findall('NYSE Arca\\|(.*)\\)', row.text)\n",
    "        \n",
    "        if (len(etf_ticker) > 0) & (len(etf_market) > 0) & (len(etf_name) > 0):\n",
    "            etfs[etf_ticker[0]] = [etf_market[0], etf_name[0]]\n",
    "            \n",
    "    except AttributeError as err:\n",
    "        pass\n",
    "    \n",
    "print(etfs)\n",
    "print('\\n')\n",
    "\n",
    "df = pd.DataFrame(etfs)\n",
    "print(df)"
   ]
  },
  {
   "cell_type": "code",
   "execution_count": 2,
   "metadata": {},
   "outputs": [
    {
     "name": "stdout",
     "output_type": "stream",
     "text": [
      "      algol basic c++\n",
      "name                 \n",
      "Jerry     A     C   B\n",
      "Hope     A+    A+  A+\n",
      "Merry     A    B+   A\n"
     ]
    }
   ],
   "source": [
    "data = {'name' : ['Jerry', 'Hope', 'Merry'],\n",
    "        'algol' : ['A', 'A+', 'A'],\n",
    "        'basic' : ['C', 'A+', 'B+'],\n",
    "        'c++' : ['B', 'A+', 'A']}\n",
    "\n",
    "df = pd.DataFrame(data)\n",
    "df.set_index('name', inplace=True)\n",
    "print(df)\n",
    "\n",
    "df.to_csv('./df_sample.csv')"
   ]
  },
  {
   "cell_type": "code",
   "execution_count": 3,
   "metadata": {},
   "outputs": [
    {
     "name": "stdout",
     "output_type": "stream",
     "text": [
      "    name algol basic c++\n",
      "0  Jerry     A     C   B\n",
      "1   Hope    A+    A+  A+\n",
      "2  Merry     A    B+   A\n"
     ]
    }
   ],
   "source": [
    "data = {'name' : ['Jerry', 'Hope', 'Merry'],\n",
    "        'algol' : ['A', 'A+', 'A'],\n",
    "        'basic' : ['C', 'A+', 'B+'],\n",
    "        'c++' : ['B', 'A+', 'A']}\n",
    "\n",
    "df = pd.DataFrame(data)\n",
    "print(df)\n",
    "\n",
    "df.to_csv('./df_sample.json')\n",
    "df.to_excel('./df_sample.xlsx')"
   ]
  },
  {
   "cell_type": "code",
   "execution_count": null,
   "metadata": {},
   "outputs": [],
   "source": [
    "writer = pd.ExcelWriter(\"./df_excelwriter.xlsx\")\n",
    "df1.to_excel(writer, sheet_name=\"sheet1\")\n",
    "df2.to_excel(writer, sheet_name=\"sheet2\")\n",
    "writer.save()"
   ]
  },
  {
   "cell_type": "code",
   "execution_count": null,
   "metadata": {},
   "outputs": [],
   "source": [
    "df.columns = ['mpg', 'cylinders', 'name']\n",
    "df.head()\n",
    "df.tail()\n",
    "df.shape\n",
    "df.info()\n",
    "df.dtypes\n",
    "df.describe()\n",
    "df.describe(include='all')\n",
    "df.count()\n",
    "\n",
    "unique_values = df['origin'].value_counts()\n",
    "type(unique_values)\n",
    "\n",
    "df.mean()\n",
    "df.median()\n",
    "df.max()\n",
    "df.min()\n",
    "df.std()\n",
    "df.corr()\n",
    "\n",
    "df.plot()\n",
    "df_ns.columns = df_na.columns.map(int)\n",
    "df_ns.T\n",
    "df.plot(kind='bar')\n",
    "df.plot(kind='hist')\n",
    "\n",
    "df.plot(x='weight', y='mpg', kind='scatter')\n",
    "\n",
    "df[['mpg', 'cylinders']].plot(kind='box')"
   ]
  }
 ],
 "metadata": {
  "kernelspec": {
   "display_name": "main",
   "language": "python",
   "name": "python3"
  },
  "language_info": {
   "codemirror_mode": {
    "name": "ipython",
    "version": 3
   },
   "file_extension": ".py",
   "mimetype": "text/x-python",
   "name": "python",
   "nbconvert_exporter": "python",
   "pygments_lexer": "ipython3",
   "version": "3.9.15 (main, Nov 24 2022, 14:39:17) [MSC v.1916 64 bit (AMD64)]"
  },
  "orig_nbformat": 4,
  "vscode": {
   "interpreter": {
    "hash": "b32efdc358dc85defc4f67325c1437036830cc387b90f5a1f804a982b630fcb0"
   }
  }
 },
 "nbformat": 4,
 "nbformat_minor": 2
}
